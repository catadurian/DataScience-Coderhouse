{
 "cells": [
  {
   "cell_type": "markdown",
   "metadata": {},
   "source": [
    "# ProyectoDSParteII_Durian.ipynb"
   ]
  },
  {
   "cell_type": "code",
   "execution_count": null,
   "metadata": {},
   "outputs": [],
   "source": [
    "# Carga de librerías necesarias\n",
    "import pandas as pd\n",
    "import seaborn as sns\n",
    "import matplotlib.pyplot as plt\n",
    "import numpy as np"
   ]
  },
  {
   "cell_type": "code",
   "execution_count": null,
   "metadata": {},
   "outputs": [],
   "source": [
    "# Carga del dataset\n",
    "df = pd.read_csv(\"student_habits_performance.csv\")"
   ]
  },
  {
   "cell_type": "markdown",
   "metadata": {},
   "source": [
    "## Abstracto"
   ]
  },
  {
   "cell_type": "markdown",
   "metadata": {},
   "source": [
    "Este proyecto explora cómo los hábitos cotidianos de los estudiantes —como el sueño, la alimentación, el ejercicio y el tiempo dedicado al estudio— influyen en su rendimiento académico. A través del análisis del dataset “Student Habits and Performance”, se busca identificar patrones y relaciones entre distintas variables para entender qué factores impactan positivamente o negativamente en el desempeño de los estudiantes.\n",
    "\n",
    "Mediante visualizaciones y análisis exploratorio, se encontraron correlaciones significativas entre el rendimiento académico y prácticas como la asistencia regular a clases, el consumo de una dieta balanceada y dormir una cantidad suficiente de horas. El estudio permite proponer recomendaciones para instituciones educativas con el fin de mejorar el rendimiento estudiantil y fomentar el bienestar integral.\n",
    "\n",
    "Además de los análisis numéricos, se plantea un marco comercial y analítico que permite vincular estos hallazgos con la toma de decisiones prácticas por parte de autoridades educativas, gobiernos o startups del ámbito edtech."
   ]
  },
  {
   "cell_type": "markdown",
   "metadata": {},
   "source": [
    "## Objetivo\n",
    "Analizar la relación entre hábitos estudiantiles y rendimiento académico para identificar patrones y proponer recomendaciones prácticas a instituciones educativas."
   ]
  },
  {
   "cell_type": "markdown",
   "metadata": {},
   "source": [
    "## Preguntas / Hipótesis\n",
    "1. ¿Influye la cantidad de horas de sueño en el rendimiento académico?\n",
    "2. ¿Existe relación entre la frecuencia de ejercicio físico y el rendimiento?\n",
    "3. ¿Una dieta balanceada mejora el desempeño académico?\n",
    "4. ¿Cuánto impacta la asistencia a clases en los resultados académicos?"
   ]
  },
  {
   "cell_type": "markdown",
   "metadata": {},
   "source": [
    "## 🏢 Contexto Comercial (ampliado)\n",
    "El análisis de hábitos estudiantiles en relación con el rendimiento académico tiene un alto valor estratégico para diversas instituciones del sector educativo. Escuelas, universidades, organismos gubernamentales y plataformas de educación digital enfrentan desafíos relacionados con la deserción, el bajo rendimiento y la falta de compromiso estudiantil.\n",
    "\n",
    "Comprender qué factores cotidianos impactan directamente en el desempeño académico permite tomar decisiones basadas en datos para diseñar políticas más efectivas.\n",
    "\n",
    "Por ejemplo:\n",
    "- Las instituciones educativas pueden ajustar horarios de clases, mejorar los servicios de orientación y promover hábitos saludables.\n",
    "- Startups edtech pueden desarrollar funcionalidades que recomienden rutinas personalizadas.\n",
    "- Ministerios de Educación pueden implementar programas de bienestar integral o campañas sobre la importancia del sueño, la alimentación y la actividad física.\n",
    "\n",
    "En un entorno competitivo y orientado a los resultados, este tipo de análisis ayuda a mejorar la calidad educativa y ofrecer una experiencia formativa más personalizada."
   ]
  },
  {
   "cell_type": "markdown",
   "metadata": {},
   "source": [
    "## Contexto Analítico\n",
    "El enfoque analítico consiste en realizar un análisis exploratorio de datos (EDA) sobre el dataset \"Student Habits and Performance\". Se busca identificar relaciones estadísticas significativas entre variables independientes (horas de sueño, dieta, ejercicio, etc.) y la variable dependiente (academic performance). El análisis se apoya en visualizaciones, resúmenes numéricos y la detección de valores faltantes o atípicos."
   ]
  },
  {
   "cell_type": "code",
   "execution_count": null,
   "metadata": {},
   "outputs": [],
   "source": [
    "# Exploratory Data Analysis (EDA)\n",
    "df.head()"
   ]
  },
  {
   "cell_type": "code",
   "execution_count": null,
   "metadata": {},
   "outputs": [],
   "source": [
    "# Verificar valores nulos\n",
    "df.isnull().sum()"
   ]
  },
  {
   "cell_type": "code",
   "execution_count": null,
   "metadata": {},
   "outputs": [],
   "source": [
    "# Distribución de rendimiento académico\n",
    "sns.histplot(df['academic_performance'], kde=True)\n",
    "plt.title(\"Distribución del rendimiento académico\")\n",
    "plt.show()"
   ]
  },
  {
   "cell_type": "code",
   "execution_count": null,
   "metadata": {},
   "outputs": [],
   "source": [
    "# Boxplot: horas de sueño vs rendimiento\n",
    "sns.boxplot(x='academic_performance', y='sleep_hours', data=df)\n",
    "plt.title(\"Rendimiento académico según horas de sueño\")\n",
    "plt.show()"
   ]
  },
  {
   "cell_type": "code",
   "execution_count": null,
   "metadata": {},
   "outputs": [],
   "source": [
    "# Boxplot: asistencia vs rendimiento\n",
    "sns.boxplot(x='academic_performance', y='attendance', data=df)\n",
    "plt.title(\"Rendimiento académico según asistencia a clases\")\n",
    "plt.show()"
   ]
  },
  {
   "cell_type": "code",
   "execution_count": null,
   "metadata": {},
   "outputs": [],
   "source": [
    "# Barplot: dieta balanceada vs rendimiento\n",
    "sns.barplot(x='balanced_diet', y='academic_performance', data=df)\n",
    "plt.title(\"Rendimiento académico según dieta balanceada\")\n",
    "plt.show()"
   ]
  },
  {
   "cell_type": "code",
   "execution_count": null,
   "metadata": {},
   "outputs": [],
   "source": [
    "# Relación multivariada: sueño, ejercicio, rendimiento\n",
    "sns.scatterplot(data=df, x='sleep_hours', y='exercise_frequency', hue='academic_performance')\n",
    "plt.title(\"Relación entre sueño, ejercicio y rendimiento\")\n",
    "plt.show()"
   ]
  },
  {
   "cell_type": "markdown",
   "metadata": {},
   "source": [
    "## 💡 Recomendaciones basadas en insights (ampliadas)\n",
    "- Promover rutinas de sueño saludables\n",
    "- Fomentar una alimentación balanceada\n",
    "- Reforzar la importancia de la asistencia a clases\n",
    "- Estimular la actividad física regular\n",
    "- Equilibrar carga de estudio y bienestar"
   ]
  },
  {
   "cell_type": "markdown",
   "metadata": {},
   "source": [
    "## Tipo de aprendizaje y modelos propuestos\n",
    "Este análisis se enmarca dentro del aprendizaje supervisado.\n",
    "- Clasificación: si se desea categorizar el rendimiento.\n",
    "- Regresión: si se desea predecir el rendimiento como valor numérico.\n",
    "Modelos posibles: Árboles de decisión, Random Forest, Regresión Logística, Regresión Lineal, Gradient Boosting."
   ]
  },
  {
   "cell_type": "markdown",
   "metadata": {},
   "source": [
    "## 📌 Conclusiones\n",
    "El análisis permite identificar hábitos que impactan en el rendimiento académico. El sueño, la alimentación, el ejercicio y la asistencia a clases están fuertemente correlacionados con el desempeño.\n",
    "\n",
    "Estas conclusiones pueden guiar decisiones en instituciones educativas y edtechs para mejorar la experiencia formativa. También sientan las bases para el desarrollo de modelos predictivos que permitan anticipar y prevenir bajo rendimiento académico."
   ]
  }
 ],
 "metadata": {
  "kernelspec": {
   "display_name": "Python 3",
   "language": "python",
   "name": "python3"
  },
  "language_info": {
   "name": "python",
   "version": "3.11"
  }
 },
 "nbformat": 4,
 "nbformat_minor": 2
}
